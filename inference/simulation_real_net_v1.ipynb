{
 "cells": [
  {
   "cell_type": "code",
   "execution_count": 1,
   "id": "a37024bf-7ef2-4728-b42a-ceb8b605bc3c",
   "metadata": {},
   "outputs": [],
   "source": [
    "import numpy as np\n",
    "import pandas as pd\n",
    "import matplotlib.pyplot as plt\n",
    "from _schon import ContinuousSIS\n",
    "import horgg\n",
    "import argparse\n",
    "import json\n",
    "import pickle\n",
    "import ray\n",
    "from time import time\n",
    "from format_data import format_data\n",
    "from hgcm import *\n",
    "from collections import deque"
   ]
  },
  {
   "cell_type": "code",
   "execution_count": 2,
   "id": "11e55cb1-daba-487c-a702-110ecc5522ba",
   "metadata": {},
   "outputs": [
    {
     "name": "stderr",
     "output_type": "stream",
     "text": [
      "2023-02-26 15:46:40,671\tINFO worker.py:1553 -- Started a local Ray instance.\n"
     ]
    },
    {
     "data": {
      "text/html": [
       "<div>\n",
       "    <div style=\"margin-left: 50px;display: flex;flex-direction: row;align-items: center\">\n",
       "        <h3 style=\"color: var(--jp-ui-font-color0)\">Ray</h3>\n",
       "        <svg version=\"1.1\" id=\"ray\" width=\"3em\" viewBox=\"0 0 144.5 144.6\" style=\"margin-left: 3em;margin-right: 3em\">\n",
       "            <g id=\"layer-1\">\n",
       "                <path fill=\"#00a2e9\" class=\"st0\" d=\"M97.3,77.2c-3.8-1.1-6.2,0.9-8.3,5.1c-3.5,6.8-9.9,9.9-17.4,9.6S58,88.1,54.8,81.2c-1.4-3-3-4-6.3-4.1\n",
       "                    c-5.6-0.1-9.9,0.1-13.1,6.4c-3.8,7.6-13.6,10.2-21.8,7.6C5.2,88.4-0.4,80.5,0,71.7c0.1-8.4,5.7-15.8,13.8-18.2\n",
       "                    c8.4-2.6,17.5,0.7,22.3,8c1.3,1.9,1.3,5.2,3.6,5.6c3.9,0.6,8,0.2,12,0.2c1.8,0,1.9-1.6,2.4-2.8c3.5-7.8,9.7-11.8,18-11.9\n",
       "                    c8.2-0.1,14.4,3.9,17.8,11.4c1.3,2.8,2.9,3.6,5.7,3.3c1-0.1,2,0.1,3,0c2.8-0.5,6.4,1.7,8.1-2.7s-2.3-5.5-4.1-7.5\n",
       "                    c-5.1-5.7-10.9-10.8-16.1-16.3C84,38,81.9,37.1,78,38.3C66.7,42,56.2,35.7,53,24.1C50.3,14,57.3,2.8,67.7,0.5\n",
       "                    C78.4-2,89,4.7,91.5,15.3c0.1,0.3,0.1,0.5,0.2,0.8c0.7,3.4,0.7,6.9-0.8,9.8c-1.7,3.2-0.8,5,1.5,7.2c6.7,6.5,13.3,13,19.8,19.7\n",
       "                    c1.8,1.8,3,2.1,5.5,1.2c9.1-3.4,17.9-0.6,23.4,7c4.8,6.9,4.6,16.1-0.4,22.9c-5.4,7.2-14.2,9.9-23.1,6.5c-2.3-0.9-3.5-0.6-5.1,1.1\n",
       "                    c-6.7,6.9-13.6,13.7-20.5,20.4c-1.8,1.8-2.5,3.2-1.4,5.9c3.5,8.7,0.3,18.6-7.7,23.6c-7.9,5-18.2,3.8-24.8-2.9\n",
       "                    c-6.4-6.4-7.4-16.2-2.5-24.3c4.9-7.8,14.5-11,23.1-7.8c3,1.1,4.7,0.5,6.9-1.7C91.7,98.4,98,92.3,104.2,86c1.6-1.6,4.1-2.7,2.6-6.2\n",
       "                    c-1.4-3.3-3.8-2.5-6.2-2.6C99.8,77.2,98.9,77.2,97.3,77.2z M72.1,29.7c5.5,0.1,9.9-4.3,10-9.8c0-0.1,0-0.2,0-0.3\n",
       "                    C81.8,14,77,9.8,71.5,10.2c-5,0.3-9,4.2-9.3,9.2c-0.2,5.5,4,10.1,9.5,10.3C71.8,29.7,72,29.7,72.1,29.7z M72.3,62.3\n",
       "                    c-5.4-0.1-9.9,4.2-10.1,9.7c0,0.2,0,0.3,0,0.5c0.2,5.4,4.5,9.7,9.9,10c5.1,0.1,9.9-4.7,10.1-9.8c0.2-5.5-4-10-9.5-10.3\n",
       "                    C72.6,62.3,72.4,62.3,72.3,62.3z M115,72.5c0.1,5.4,4.5,9.7,9.8,9.9c5.6-0.2,10-4.8,10-10.4c-0.2-5.4-4.6-9.7-10-9.7\n",
       "                    c-5.3-0.1-9.8,4.2-9.9,9.5C115,72.1,115,72.3,115,72.5z M19.5,62.3c-5.4,0.1-9.8,4.4-10,9.8c-0.1,5.1,5.2,10.4,10.2,10.3\n",
       "                    c5.6-0.2,10-4.9,9.8-10.5c-0.1-5.4-4.5-9.7-9.9-9.6C19.6,62.3,19.5,62.3,19.5,62.3z M71.8,134.6c5.9,0.2,10.3-3.9,10.4-9.6\n",
       "                    c0.5-5.5-3.6-10.4-9.1-10.8c-5.5-0.5-10.4,3.6-10.8,9.1c0,0.5,0,0.9,0,1.4c-0.2,5.3,4,9.8,9.3,10\n",
       "                    C71.6,134.6,71.7,134.6,71.8,134.6z\"/>\n",
       "            </g>\n",
       "        </svg>\n",
       "        <table>\n",
       "            <tr>\n",
       "                <td style=\"text-align: left\"><b>Python version:</b></td>\n",
       "                <td style=\"text-align: left\"><b>3.10.6</b></td>\n",
       "            </tr>\n",
       "            <tr>\n",
       "                <td style=\"text-align: left\"><b>Ray version:</b></td>\n",
       "                <td style=\"text-align: left\"><b> 2.3.0</b></td>\n",
       "            </tr>\n",
       "            \n",
       "        </table>\n",
       "    </div>\n",
       "</div>\n"
      ],
      "text/plain": [
       "RayContext(dashboard_url='', python_version='3.10.6', ray_version='2.3.0', ray_commit='cf7a56b4b0b648c324722df7c99c168e92ff0b45', address_info={'node_ip_address': '127.0.0.1', 'raylet_ip_address': '127.0.0.1', 'redis_address': None, 'object_store_address': '/tmp/ray/session_2023-02-26_15-46-36_908666_48529/sockets/plasma_store', 'raylet_socket_name': '/tmp/ray/session_2023-02-26_15-46-36_908666_48529/sockets/raylet', 'webui_url': '', 'session_dir': '/tmp/ray/session_2023-02-26_15-46-36_908666_48529', 'metrics_export_port': 65372, 'gcs_address': '127.0.0.1:64115', 'address': '127.0.0.1:64115', 'dashboard_agent_listen_port': 52365, 'node_id': '2c8761343af6335c9dac0df2cd88017354488b2aa18b46c889b2dcf5'})"
      ]
     },
     "execution_count": 2,
     "metadata": {},
     "output_type": "execute_result"
    }
   ],
   "source": [
    "# Start Ray.\n",
    "ray.shutdown()\n",
    "ray.init(num_cpus=10)"
   ]
  },
  {
   "cell_type": "markdown",
   "id": "29ebf38c-964f-4b09-8ceb-e8df2715615c",
   "metadata": {},
   "source": [
    "## Preprocessing"
   ]
  },
  {
   "cell_type": "markdown",
   "id": "2264086e-9d0b-49d2-a0fa-9add1995bbd9",
   "metadata": {},
   "source": [
    "### Load data"
   ]
  },
  {
   "cell_type": "code",
   "execution_count": 3,
   "id": "128b809c-51d9-4a5f-a890-61c26dbe1458",
   "metadata": {},
   "outputs": [],
   "source": [
    "with open('./dat/coauth_subsample.json','r') as file:\n",
    "    data = json.load(file)"
   ]
  },
  {
   "cell_type": "code",
   "execution_count": 4,
   "id": "0850f23c-842b-4a39-a96e-c6f068e6c27e",
   "metadata": {},
   "outputs": [],
   "source": [
    "#format data\n",
    "edge_list = data['edge_list']\n",
    "nmax = np.amax([len(g) for g in data['group_list']])"
   ]
  },
  {
   "cell_type": "markdown",
   "id": "812c0e8a-138f-4f58-81ff-e2b0c06a0154",
   "metadata": {},
   "source": [
    "### Configuration"
   ]
  },
  {
   "cell_type": "code",
   "execution_count": 5,
   "id": "13ee7a8b-cee3-4202-99c7-5b44adf06133",
   "metadata": {},
   "outputs": [
    {
     "name": "stdout",
     "output_type": "stream",
     "text": [
      "0.006402149102074656\n"
     ]
    },
    {
     "data": {
      "image/png": "[encoded data removed]",
      "text/plain": [
       "<Figure size 640x480 with 1 Axes>"
      ]
     },
     "metadata": {},
     "output_type": "display_data"
    }
   ],
   "source": [
    "#rates\n",
    "ymax = 500\n",
    "rate = np.linspace(0.0001,0.2,ymax+1)\n",
    "mu = 0.0065\n",
    "nu = 1.\n",
    "\n",
    "#rate distribution\n",
    "dist = 'weibull'\n",
    "\n",
    "py_n = weibull_rate_distribution(mu,nu,rate,ymax,nmax)\n",
    "mean_rate = np.sum(py_n[:,0]*rate)\n",
    "print(mean_rate)\n",
    "\n",
    "plt.semilogy(rate,py_n[:,0])\n",
    "plt.show()\n",
    "\n",
    "\n",
    "#contagion\n",
    "initial_infected_fraction = 10**(-4)"
   ]
  },
  {
   "cell_type": "code",
   "execution_count": 6,
   "id": "fa96d8dc-1f3c-4f16-bfe5-1506e4f5ddbf",
   "metadata": {},
   "outputs": [],
   "source": [
    "exp_id = 10"
   ]
  },
  {
   "cell_type": "code",
   "execution_count": 7,
   "id": "e48bde79-ddf7-49c5-b36b-4781bcfda67a",
   "metadata": {},
   "outputs": [],
   "source": [
    "#get group list, i.e., list of nodes in the groups\n",
    "groups = [[] for _ in range(len(data['group_list']))]\n",
    "membership = [[] for _ in range(len(data['adj_dict']))]\n",
    "for edge in edge_list:\n",
    "    groups[edge[1]].append(edge[0])\n",
    "    membership[edge[0]].append(edge[1])"
   ]
  },
  {
   "cell_type": "code",
   "execution_count": 8,
   "id": "a25f364d-736f-4a60-98d6-4ce7a63b5e1f",
   "metadata": {},
   "outputs": [
    {
     "data": {
      "text/plain": [
       "116700"
      ]
     },
     "execution_count": 8,
     "metadata": {},
     "output_type": "execute_result"
    }
   ],
   "source": [
    "len(membership)"
   ]
  },
  {
   "cell_type": "markdown",
   "id": "416a6920-8d39-4ab9-b034-30efaf67025e",
   "metadata": {},
   "source": [
    "### Prepare group transmission rates"
   ]
  },
  {
   "cell_type": "code",
   "execution_count": 9,
   "id": "55eb5087-cd96-4530-87f8-2d1cfac42650",
   "metadata": {},
   "outputs": [],
   "source": [
    "pdf = py_n[:,nmax]\n",
    "cum = np.cumsum(pdf)\n",
    "group_transmission_rate = []\n",
    "for _ in range(len(data['group_list'])):\n",
    "    r = np.random.random()\n",
    "    ind = np.searchsorted(cum,r)\n",
    "    group_transmission_rate.append(rate[ind])"
   ]
  },
  {
   "cell_type": "code",
   "execution_count": 10,
   "id": "02c91cd0-a94d-4086-8980-b65bcb77659f",
   "metadata": {},
   "outputs": [
    {
     "name": "stdout",
     "output_type": "stream",
     "text": [
      "0.006399311518793901\n"
     ]
    }
   ],
   "source": [
    "print(np.mean(group_transmission_rate))"
   ]
  },
  {
   "cell_type": "markdown",
   "id": "050cbd8a-4a73-45e0-9341-4c805b47ea27",
   "metadata": {},
   "source": [
    "### Prepare infection / recovery rate"
   ]
  },
  {
   "cell_type": "code",
   "execution_count": 11,
   "id": "e5a1434e-6133-4e3e-8412-4d5e7075fd00",
   "metadata": {},
   "outputs": [],
   "source": [
    "recovery_rate = 1.\n",
    "infection_rate = np.zeros((nmax+1,nmax+1))\n",
    "for n in range(2,nmax+1):\n",
    "    for i in range(nmax+1):\n",
    "        infection_rate[n][i] = i"
   ]
  },
  {
   "cell_type": "markdown",
   "id": "9c00a4ad-88c0-439e-9694-fa8b941dbffc",
   "metadata": {},
   "source": [
    "## Simulation"
   ]
  },
  {
   "cell_type": "code",
   "execution_count": 12,
   "id": "7f8fab9c-1af0-45ce-8bc0-08dc3b3b797c",
   "metadata": {},
   "outputs": [],
   "source": [
    "takeoff = False\n",
    "while not takeoff:\n",
    "    cont = ContinuousSIS(edge_list,recovery_rate,infection_rate,\n",
    "                            group_transmission_rate)\n",
    "    cont.measure_prevalence()\n",
    "    cont.measure_time()\n",
    "    cont.measure_infectious_set()\n",
    "\n",
    "    cont.infect_fraction(initial_infected_fraction)\n",
    "\n",
    "    #evolve and measure\n",
    "    dt = 20\n",
    "    dec_dt = 0.\n",
    "    cont.evolve(dt,dec_dt,measure=True,quasistationary=False)\n",
    "    \n",
    "    #get the result measure\n",
    "    for measure in cont.get_measure_vector():\n",
    "        name = measure.get_name()\n",
    "        if name == \"time\":\n",
    "            time_list_ = list(measure.get_result()).copy()\n",
    "        elif name == \"infectious_set\":\n",
    "            infectious_set_list_ = list(measure.get_result()).copy()\n",
    "        elif name == \"prevalence\":\n",
    "            prevalence_list_ = list(measure.get_result()).copy()\n",
    "    if prevalence_list_[-1] >= 3*10**(-3):\n",
    "        takeoff = True"
   ]
  },
  {
   "cell_type": "code",
   "execution_count": 13,
   "id": "8d725b5a-cff5-448b-b8fe-7e0c5733f91c",
   "metadata": {},
   "outputs": [],
   "source": [
    "ind_up = np.argmin(np.abs(np.array(prevalence_list_)-0.001))\n",
    "# ind_low = np.argmin(np.abs(np.array(prevalence_list_)-0.0002))\n",
    "ind_low = 0"
   ]
  },
  {
   "cell_type": "code",
   "execution_count": 14,
   "id": "b005c82f-3776-4c78-9cf7-207cb4acd7fb",
   "metadata": {},
   "outputs": [
    {
     "data": {
      "text/plain": [
       "755"
      ]
     },
     "execution_count": 14,
     "metadata": {},
     "output_type": "execute_result"
    }
   ],
   "source": [
    "time_list = time_list_[ind_low:ind_up+1]\n",
    "infectious_set_list = infectious_set_list_[ind_low:ind_up+1]\n",
    "prevalence_list = prevalence_list_[ind_low:ind_up+1]\n",
    "len(prevalence_list)"
   ]
  },
  {
   "cell_type": "code",
   "execution_count": 15,
   "id": "bebc56c9-044e-4293-a1f0-cbd161b3a385",
   "metadata": {},
   "outputs": [
    {
     "data": {
      "text/plain": [
       "<matplotlib.lines.Line2D at 0x10335d8d0>"
      ]
     },
     "execution_count": 15,
     "metadata": {},
     "output_type": "execute_result"
    },
    {
     "data": {
      "image/png": "[encoded data removed]",
      "text/plain": [
       "<Figure size 640x480 with 1 Axes>"
      ]
     },
     "metadata": {},
     "output_type": "display_data"
    }
   ],
   "source": [
    "plt.semilogy(time_list_,prevalence_list_)\n",
    "# plt.axhline(0.0002, ls='--', color='grey')\n",
    "plt.axhline(0.001, ls='--', color='grey')"
   ]
  },
  {
   "cell_type": "markdown",
   "id": "00f4b627-0185-400d-8694-403c92a1a257",
   "metadata": {},
   "source": [
    "### Get events"
   ]
  },
  {
   "cell_type": "code",
   "execution_count": 16,
   "id": "e808a333-828b-4a9a-9a31-fed6b2590fc3",
   "metadata": {},
   "outputs": [],
   "source": [
    "event_list = []\n",
    "for i in range(len(infectious_set_list)-1):\n",
    "    if len(infectious_set_list[i+1]) > len(infectious_set_list[i]):\n",
    "        #infection\n",
    "        (node,) = infectious_set_list[i+1] - infectious_set_list[i] #tuple unpacking from a set\n",
    "        infection_event = True\n",
    "    else:\n",
    "        (node,) = infectious_set_list[i] - infectious_set_list[i+1] #tuple unpacking from a set\n",
    "        infection_event = False\n",
    "    event_list.append((infection_event,node))"
   ]
  },
  {
   "cell_type": "markdown",
   "id": "ebe2fdee-44de-4869-9246-7ee8955b06f1",
   "metadata": {},
   "source": [
    "## Measure likelihood"
   ]
  },
  {
   "cell_type": "code",
   "execution_count": 17,
   "id": "cbbb0ec3-3b04-45cb-b6b8-361b24ae31f1",
   "metadata": {},
   "outputs": [],
   "source": [
    "def get_total_rate(infectious_set, groups, beta, nu):\n",
    "    total_rate = len(infectious_set) #recovery events\n",
    "    for group in groups:\n",
    "        n = len(group)\n",
    "        i = 0\n",
    "        for node in group:\n",
    "            if node in infectious_set:\n",
    "                i+= 1\n",
    "        total_rate += (n-i)*beta*i**nu\n",
    "    return total_rate\n",
    "\n",
    "def rates_infection_event(infectious_set,groups_sub,beta,nu):\n",
    "    #infectious_set prior to event\n",
    "    #groups_sub is a subset of groups where new infectious node belongs to\n",
    "    #note: here nu is not the same nu as for the distribution, should probably change that\n",
    "    rate_prior = 0\n",
    "    rate_now = 0\n",
    "    node_rate = 0\n",
    "    for group in groups_sub:\n",
    "        n = len(group)\n",
    "        i = 0\n",
    "        for node_ in group:\n",
    "            if node_ in infectious_set:\n",
    "                i += 1\n",
    "        rate_prior += (n-i)*beta*i**nu\n",
    "        rate_now += (n-(i+1))*beta*(i+1)**nu\n",
    "        node_rate += beta*i**nu\n",
    "    if node_rate == 0:\n",
    "        raise RuntimeError(\"node_rate is 0\")\n",
    "    return node_rate,rate_prior,rate_now\n",
    "    \n",
    "def rates_recovery_event(infectious_set,groups_sub,beta,nu):\n",
    "    #infectious_set prior to event\n",
    "    #groups_sub is a subset of groups where new old node belongs to\n",
    "    rate_prior = 0\n",
    "    rate_now = 0\n",
    "    for group in groups_sub:\n",
    "        n = len(group)\n",
    "        i = 0\n",
    "        for node_ in group:\n",
    "            if node_ in infectious_set:\n",
    "                i += 1\n",
    "        rate_prior += (n-i)*beta*i**nu\n",
    "        rate_now += (n-(i-1))*beta*(i-1)**nu\n",
    "    return rate_prior,rate_now   \n",
    "\n",
    "def get_loglikelihood(time_list, infectious_set_list, event_list, groups, membership, beta, nu):        \n",
    "    ll = 0\n",
    "    total_rate = get_total_rate(infectious_set_list[0], groups, beta, nu)\n",
    "    for i in range(len(time_list)-1):\n",
    "        infectious_set = infectious_set_list[i].copy()\n",
    "        dt = time_list[i+1]-time_list[i]\n",
    "        event = event_list[i]\n",
    "        infection_event,node = event[0],event[1]\n",
    "        groups_sub = [groups[g] for g in membership[node]]\n",
    "        node_rate = 0.\n",
    "        if infection_event:\n",
    "            assert node in infectious_set_list[i+1] - infectious_set_list[i]\n",
    "            node_rate,rate_prior,rate_now = rates_infection_event(infectious_set,groups_sub,beta,nu)\n",
    "        else:\n",
    "            assert node in infectious_set_list[i] - infectious_set_list[i+1]\n",
    "            rate_prior,rate_now = rates_recovery_event(infectious_set,groups_sub,beta,nu)\n",
    "            node_rate = 1\n",
    "        ll += -total_rate*dt + np.log(node_rate)\n",
    "        #update total rate\n",
    "        total_rate += (rate_now - rate_prior)\n",
    "    return ll"
   ]
  },
  {
   "cell_type": "code",
   "execution_count": 18,
   "id": "40131f27-108d-4b2c-aad6-f1fce019cda7",
   "metadata": {},
   "outputs": [],
   "source": [
    "beta_list = np.linspace(0.004,0.008,30)\n",
    "nu_list = np.linspace(0.3,1.7,50)\n",
    "Beta,Nu = np.meshgrid(beta_list,nu_list)"
   ]
  },
  {
   "cell_type": "code",
   "execution_count": 19,
   "id": "2cb6b3f5-6aa6-4702-8227-c9a657127cfe",
   "metadata": {},
   "outputs": [],
   "source": [
    "@ray.remote\n",
    "def target(beta,nu):\n",
    "    return get_loglikelihood(time_list, infectious_set_list, event_list, groups, membership, beta, nu)"
   ]
  },
  {
   "cell_type": "code",
   "execution_count": 20,
   "id": "a4362cee-ee75-401d-b0f2-e62b660049f3",
   "metadata": {},
   "outputs": [
    {
     "name": "stdout",
     "output_type": "stream",
     "text": [
      "It took 15.194658041000366 seconds\n"
     ]
    }
   ],
   "source": [
    "# Start the tasks in parallel.\n",
    "t1 = time()\n",
    "result_ids = []\n",
    "for beta,nu in zip(Beta.flatten(),Nu.flatten()):\n",
    "    result_ids.append(target.remote(beta,nu))\n",
    "results = ray.get(result_ids)\n",
    "t2 = time()\n",
    "print(f\"It took {t2-t1} seconds\")"
   ]
  },
  {
   "cell_type": "code",
   "execution_count": 21,
   "id": "e94681c2-c210-4579-a4be-06e52e9ae45b",
   "metadata": {},
   "outputs": [],
   "source": [
    "LL = np.array(results).reshape(Beta.shape)"
   ]
  },
  {
   "cell_type": "code",
   "execution_count": 22,
   "id": "c1cfa106-75af-42e5-8fd2-b3ace72822ec",
   "metadata": {},
   "outputs": [],
   "source": [
    "LL -= np.amax(LL)\n",
    "LH = np.exp(LL)"
   ]
  },
  {
   "cell_type": "code",
   "execution_count": 23,
   "id": "e990fa97-b237-4e24-b844-91d62e30b3cf",
   "metadata": {},
   "outputs": [
    {
     "data": {
      "text/plain": [
       "Text(0, 0.5, '$\\\\nu$')"
      ]
     },
     "execution_count": 23,
     "metadata": {},
     "output_type": "execute_result"
    },
    {
     "data": {
      "image/png": "[encoded data removed]",
      "text/plain": [
       "<Figure size 640x480 with 1 Axes>"
      ]
     },
     "metadata": {},
     "output_type": "display_data"
    }
   ],
   "source": [
    "plt.contourf(Beta,Nu,LH)\n",
    "plt.xlabel(r'$\\beta$')\n",
    "plt.ylabel(r'$\\nu$')"
   ]
  },
  {
   "cell_type": "code",
   "execution_count": 24,
   "id": "aa8d2a21-6781-49bf-a3fc-8ac711937a0c",
   "metadata": {},
   "outputs": [
    {
     "data": {
      "text/plain": [
       "[<matplotlib.lines.Line2D at 0x3541d99c0>]"
      ]
     },
     "execution_count": 24,
     "metadata": {},
     "output_type": "execute_result"
    },
    {
     "data": {
      "image/png": "[encoded data removed]",
      "text/plain": [
       "<Figure size 640x480 with 1 Axes>"
      ]
     },
     "metadata": {},
     "output_type": "display_data"
    }
   ],
   "source": [
    "plt.plot(nu_list,np.sum(LH,axis=1))"
   ]
  },
  {
   "cell_type": "markdown",
   "id": "64104e95-f294-4359-990a-8ad859382569",
   "metadata": {},
   "source": [
    "## Save the results"
   ]
  },
  {
   "cell_type": "code",
   "execution_count": 25,
   "id": "786eeb36-ea7f-48ff-bd24-1b514d00ab19",
   "metadata": {},
   "outputs": [],
   "source": [
    "data = {'beta':Beta.flatten(), 'nu':Nu.flatten(), 'll':LL.flatten()}\n",
    "df = pd.DataFrame(data)\n",
    "df['exp_id'] = exp_id\n",
    "df.to_parquet(f'./dat/loglikelihood_real_net_v1_{exp_id}.pq')"
   ]
  }
 ],
 "metadata": {
  "kernelspec": {
   "display_name": "Python 3 (ipykernel)",
   "language": "python",
   "name": "python3"
  },
  "language_info": {
   "codemirror_mode": {
    "name": "ipython",
    "version": 3
   },
   "file_extension": ".py",
   "mimetype": "text/x-python",
   "name": "python",
   "nbconvert_exporter": "python",
   "pygments_lexer": "ipython3",
   "version": "3.10.6"
  }
 },
 "nbformat": 4,
 "nbformat_minor": 5
}
