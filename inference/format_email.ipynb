{
 "cells": [
  {
   "cell_type": "code",
   "execution_count": 4,
   "id": "aafdbb40-5b4f-4000-923a-70c17967c850",
   "metadata": {},
   "outputs": [],
   "source": [
    "import json\n",
    "import numpy as np\n",
    "from collections import defaultdict\n",
    "import matplotlib.pyplot as plt\n",
    "\n",
    "#plot parameters\n",
    "font_size=10\n",
    "plt.style.use('seaborn-paper')\n",
    "plt.rc('text', usetex=True)\n",
    "plt.rc('font',family='serif',serif='Computer Modern')\n",
    "plt.rc('xtick', labelsize=font_size)\n",
    "plt.rc('ytick', labelsize=font_size)\n",
    "plt.rc('axes', labelsize=font_size)\n",
    "plt.rc('legend', fontsize=font_size-1)\n",
    "\n",
    "#color list\n",
    "color_list = [\"#c7e9b4\",\"#7fcdbb\",\"#41b6c4\",\"#1d91c0\",\"#225ea8\", \"#0c2c84\"]\n",
    "color_list2 = [\"#2b83ba\",\"#fdae61\",\"#83b692\",\"#d36060\",\"#8E7891\"] #[\"#2b83ba\",\"#d7191c\",\"#fdae61\"]"
   ]
  },
  {
   "cell_type": "code",
   "execution_count": 5,
   "id": "f046ddcf-72d8-4745-8d63-63cb522476aa",
   "metadata": {},
   "outputs": [],
   "source": [
    "data = json.load(open('dat/email-eu.json','r'))"
   ]
  },
  {
   "cell_type": "code",
   "execution_count": 6,
   "id": "d59e9698-3353-4863-8714-6c0db10bf3eb",
   "metadata": {},
   "outputs": [],
   "source": [
    "node_list = sorted([int(node)-1 for node in data['node-data']])"
   ]
  },
  {
   "cell_type": "code",
   "execution_count": 7,
   "id": "59337f1e-ba9b-4907-8f54-9472dca743e2",
   "metadata": {},
   "outputs": [],
   "source": [
    "group_list = []\n",
    "for _,group in data['edge-dict'].items():\n",
    "    relabeled_group = tuple(sorted([int(node)-1 for node in group]))\n",
    "    group_list.append(relabeled_group)"
   ]
  },
  {
   "cell_type": "code",
   "execution_count": 8,
   "id": "97c67045-fae6-4bc8-8e34-eebab65bb062",
   "metadata": {},
   "outputs": [],
   "source": [
    "group_dict = defaultdict(int)\n",
    "for group in group_list:\n",
    "    group_dict[group] += 1"
   ]
  },
  {
   "cell_type": "code",
   "execution_count": 9,
   "id": "50a1535a-7074-457a-82f9-3abd9cb15262",
   "metadata": {},
   "outputs": [],
   "source": [
    "groups = []\n",
    "weights = []\n",
    "for group,weight in group_dict.items():\n",
    "    groups.append(list(group))\n",
    "    weights.append(weight)"
   ]
  },
  {
   "cell_type": "code",
   "execution_count": 10,
   "id": "42113bb8-f37d-4316-a9fb-0ec4a5fd8a07",
   "metadata": {},
   "outputs": [
    {
     "data": {
      "image/png": "[encoded data removed]",
      "text/plain": [
       "<Figure size 254.052x169.368 with 1 Axes>"
      ]
     },
     "metadata": {
      "needs_background": "light"
     },
     "output_type": "display_data"
    }
   ],
   "source": [
    "width = 7.057/2.\n",
    "height = width/1.5\n",
    "fig, axes = plt.subplots(ncols=1, nrows=1, figsize=(width,height))\n",
    "plt.subplots_adjust(left=0.15, bottom=0.2, right=0.98,\n",
    "                    top=0.9, wspace=0.5, hspace=0.6)\n",
    "\n",
    "plt.hist(weights,bins=np.logspace(0,4),color=color_list[1],rwidth=0.9)\n",
    "plt.xscale('log')\n",
    "plt.yscale('log')\n",
    "plt.ylabel('Frequency')\n",
    "plt.xlabel('Number of email (weight)')\n",
    "plt.title(r'\\textbf{(b) Emails}',loc='left')\n",
    "plt.savefig('../figs/frequency_email.pdf')"
   ]
  },
  {
   "cell_type": "code",
   "execution_count": 8,
   "id": "113dd81c-dd3d-43fe-80d2-73d1b75981f6",
   "metadata": {},
   "outputs": [],
   "source": [
    "edge_list = []\n",
    "for i,group in enumerate(groups):\n",
    "    for node in group:\n",
    "        edge_list.append([node,i])"
   ]
  },
  {
   "cell_type": "markdown",
   "id": "68ee1417-de9a-4db1-a0d3-1d564fbee588",
   "metadata": {},
   "source": [
    "### Save formatted data"
   ]
  },
  {
   "cell_type": "code",
   "execution_count": 9,
   "id": "43c1bb86-1092-4a31-90cf-55295c486ff4",
   "metadata": {},
   "outputs": [],
   "source": [
    "form_data = {'node_list':node_list,'edge_list':edge_list,'weights':weights,'groups':groups}"
   ]
  },
  {
   "cell_type": "code",
   "execution_count": 10,
   "id": "9a4fb3cf-8791-41bd-8df9-739f9712b3f8",
   "metadata": {},
   "outputs": [],
   "source": [
    "json.dump(form_data,open('./dat/email-eu_form.json','w'))"
   ]
  }
 ],
 "metadata": {
  "kernelspec": {
   "display_name": "Python 3 (ipykernel)",
   "language": "python",
   "name": "python3"
  },
  "language_info": {
   "codemirror_mode": {
    "name": "ipython",
    "version": 3
   },
   "file_extension": ".py",
   "mimetype": "text/x-python",
   "name": "python",
   "nbconvert_exporter": "python",
   "pygments_lexer": "ipython3",
   "version": "3.10.5"
  }
 },
 "nbformat": 4,
 "nbformat_minor": 5
}
