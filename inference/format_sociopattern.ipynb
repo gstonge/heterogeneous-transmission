{
 "cells": [
  {
   "cell_type": "code",
   "execution_count": 2,
   "id": "aafdbb40-5b4f-4000-923a-70c17967c850",
   "metadata": {},
   "outputs": [],
   "source": [
    "import json\n",
    "import numpy as np\n",
    "from collections import defaultdict\n",
    "import matplotlib.pyplot as plt"
   ]
  },
  {
   "cell_type": "code",
   "execution_count": 3,
   "id": "f046ddcf-72d8-4745-8d63-63cb522476aa",
   "metadata": {},
   "outputs": [],
   "source": [
    "data = json.load(open('dat/contact-high-school.json','r'))"
   ]
  },
  {
   "cell_type": "code",
   "execution_count": 19,
   "id": "d59e9698-3353-4863-8714-6c0db10bf3eb",
   "metadata": {},
   "outputs": [],
   "source": [
    "node_list = sorted([int(node)-1 for node in data['node-data']])"
   ]
  },
  {
   "cell_type": "code",
   "execution_count": 10,
   "id": "59337f1e-ba9b-4907-8f54-9472dca743e2",
   "metadata": {},
   "outputs": [],
   "source": [
    "group_list = []\n",
    "for _,group in data['edge-dict'].items():\n",
    "    relabeled_group = tuple(sorted([int(node)-1 for node in group]))\n",
    "    group_list.append(relabeled_group)"
   ]
  },
  {
   "cell_type": "code",
   "execution_count": 11,
   "id": "97c67045-fae6-4bc8-8e34-eebab65bb062",
   "metadata": {},
   "outputs": [],
   "source": [
    "group_dict = defaultdict(int)\n",
    "for group in group_list:\n",
    "    group_dict[group] += 1"
   ]
  },
  {
   "cell_type": "code",
   "execution_count": 12,
   "id": "50a1535a-7074-457a-82f9-3abd9cb15262",
   "metadata": {},
   "outputs": [],
   "source": [
    "groups = []\n",
    "weights = []\n",
    "for group,weight in group_dict.items():\n",
    "    groups.append(list(group))\n",
    "    weights.append(weight)"
   ]
  },
  {
   "cell_type": "code",
   "execution_count": 14,
   "id": "42113bb8-f37d-4316-a9fb-0ec4a5fd8a07",
   "metadata": {},
   "outputs": [
    {
     "data": {
      "text/plain": [
       "Text(0.5, 0, 'Number of contact (weight)')"
      ]
     },
     "execution_count": 14,
     "metadata": {},
     "output_type": "execute_result"
    },
    {
     "data": {
      "image/png": "[encoded data removed]",
      "text/plain": [
       "<Figure size 640x480 with 1 Axes>"
      ]
     },
     "metadata": {},
     "output_type": "display_data"
    }
   ],
   "source": [
    "plt.hist(weights,bins=np.logspace(0,4))\n",
    "plt.xscale('log')\n",
    "plt.yscale('log')\n",
    "plt.ylabel('Frequency')\n",
    "plt.xlabel('Number of contact (weight)')"
   ]
  },
  {
   "cell_type": "code",
   "execution_count": 15,
   "id": "113dd81c-dd3d-43fe-80d2-73d1b75981f6",
   "metadata": {},
   "outputs": [],
   "source": [
    "edge_list = []\n",
    "for i,group in enumerate(groups):\n",
    "    for node in group:\n",
    "        edge_list.append([node,i])"
   ]
  },
  {
   "cell_type": "markdown",
   "id": "68ee1417-de9a-4db1-a0d3-1d564fbee588",
   "metadata": {},
   "source": [
    "### Save formatted data"
   ]
  },
  {
   "cell_type": "code",
   "execution_count": 16,
   "id": "43c1bb86-1092-4a31-90cf-55295c486ff4",
   "metadata": {},
   "outputs": [],
   "source": [
    "form_data = {'node_list':node_list,'edge_list':edge_list,'weights':weights,'groups':groups}"
   ]
  },
  {
   "cell_type": "code",
   "execution_count": 17,
   "id": "9a4fb3cf-8791-41bd-8df9-739f9712b3f8",
   "metadata": {},
   "outputs": [],
   "source": [
    "json.dump(form_data,open('./dat/contact-high-school_form.json','w'))"
   ]
  }
 ],
 "metadata": {
  "kernelspec": {
   "display_name": "Python 3 (ipykernel)",
   "language": "python",
   "name": "python3"
  },
  "language_info": {
   "codemirror_mode": {
    "name": "ipython",
    "version": 3
   },
   "file_extension": ".py",
   "mimetype": "text/x-python",
   "name": "python",
   "nbconvert_exporter": "python",
   "pygments_lexer": "ipython3",
   "version": "3.10.5"
  }
 },
 "nbformat": 4,
 "nbformat_minor": 5
}
