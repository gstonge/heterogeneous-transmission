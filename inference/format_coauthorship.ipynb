{
 "cells": [
  {
   "cell_type": "code",
   "execution_count": 1,
   "id": "e2771ad4-b413-45f7-95a0-6bf2c7c7939c",
   "metadata": {},
   "outputs": [],
   "source": [
    "import numpy as np\n",
    "import pandas as pd\n",
    "import matplotlib.pyplot as plt\n",
    "from _schon import ContinuousSIS\n",
    "import horgg\n",
    "import argparse\n",
    "import json\n",
    "import pickle\n",
    "import ray\n",
    "from time import time\n",
    "from format_data import format_data\n",
    "from hgcm import *\n",
    "from collections import deque"
   ]
  },
  {
   "cell_type": "code",
   "execution_count": 10,
   "id": "7da155e5-4bb8-4d59-921d-17f79c02482c",
   "metadata": {},
   "outputs": [],
   "source": [
    "def bfs(adj_dict, group_list, source_group, depth_limit):\n",
    "    observed_group = {source_group}\n",
    "    depth = 0\n",
    "    queue = deque([(source_group,depth)])\n",
    "    while queue and queue[0][1] < depth_limit:\n",
    "        group_parent, depth = queue.popleft()\n",
    "        for node in group_list[group_parent]:\n",
    "            for group_child in adj_dict[node]:\n",
    "                if group_child not in observed_group:\n",
    "                    observed_group.add(group_child)\n",
    "                    queue.append((group_child,depth +1))\n",
    "    return observed_group"
   ]
  },
  {
   "cell_type": "code",
   "execution_count": 11,
   "id": "f9e0a26c-a0e4-4785-93e4-9cc00b5c446d",
   "metadata": {},
   "outputs": [],
   "source": [
    "with open('./dat/coauth-DBLP_simplices.json','r') as file:\n",
    "    unformatted_group_list = json.load(file)"
   ]
  },
  {
   "cell_type": "code",
   "execution_count": 12,
   "id": "c8c9f9d5-8645-4fdc-a20c-fe84b9bc0158",
   "metadata": {},
   "outputs": [],
   "source": [
    "#format data\n",
    "data = format_data(unformatted_group_list)"
   ]
  },
  {
   "cell_type": "code",
   "execution_count": 40,
   "id": "84109228-ee97-417c-a56c-bf6b535129a5",
   "metadata": {},
   "outputs": [],
   "source": [
    "adj_dict = data['adj_dict']\n",
    "group_list = data['group_list']\n",
    "source_group = np.random.randint(0,len(group_list))\n",
    "depth_limit = 3\n",
    "observed_groups = bfs(adj_dict, group_list, source_group, depth_limit)"
   ]
  },
  {
   "cell_type": "code",
   "execution_count": 41,
   "id": "c038ba07-3ede-49e0-afc5-f0cb677aac3d",
   "metadata": {},
   "outputs": [],
   "source": [
    "subgroup_list = [group_list[g] for g in observed_groups]"
   ]
  },
  {
   "cell_type": "code",
   "execution_count": 52,
   "id": "691c224a-d601-4e5a-9ecf-eb61c77907c1",
   "metadata": {},
   "outputs": [],
   "source": [
    "sub_data = format_data(subgroup_list)\n",
    "sub_data_to_save = {'group_list':sub_data['group_list'],\n",
    "                    'adj_dict':sub_data['adj_dict'],\n",
    "                    'edge_list':sub_data['edge_list']}"
   ]
  },
  {
   "cell_type": "code",
   "execution_count": 53,
   "id": "b6d0e7e2-24b5-4a4d-a135-760747edc631",
   "metadata": {},
   "outputs": [],
   "source": [
    "with open('./dat/coauth_subsample.json','w') as file:\n",
    "    json.dump(sub_data_to_save,file)"
   ]
  }
 ],
 "metadata": {
  "kernelspec": {
   "display_name": "Python 3 (ipykernel)",
   "language": "python",
   "name": "python3"
  },
  "language_info": {
   "codemirror_mode": {
    "name": "ipython",
    "version": 3
   },
   "file_extension": ".py",
   "mimetype": "text/x-python",
   "name": "python",
   "nbconvert_exporter": "python",
   "pygments_lexer": "ipython3",
   "version": "3.10.5"
  }
 },
 "nbformat": 4,
 "nbformat_minor": 5
}
